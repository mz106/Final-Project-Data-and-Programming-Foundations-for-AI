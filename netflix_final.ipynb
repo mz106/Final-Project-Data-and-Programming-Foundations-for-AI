{
 "cells": [
  {
   "cell_type": "markdown",
   "id": "0db3615c-3180-48b9-a2e1-20552a67f7ea",
   "metadata": {},
   "source": [
    "Title: Netflix Data Analysis and Genre-Related Insights\n",
    "Objective\n",
    "\n",
    "The primary goal of this notebook is to explore:\n",
    "\n",
    "    1.) The number of distinct genres across movies and series\n",
    "    2.) The relationship between genre and runtime, analyzing statistical significance\n",
    "    3.) The relationship between genre and IMDb Votes, analyzing statistical significance"
   ]
  },
  {
   "cell_type": "code",
   "execution_count": null,
   "id": "7fdd1065-6d15-4665-b64e-9a3e78241cdf",
   "metadata": {},
   "outputs": [],
   "source": [
    "import importlib\n",
    "import seaborn as sns\n",
    "\n",
    "from typing import Type, Any\n",
    "\n",
    "from data_processor import DataProcessor\n",
    "from data_transformer import DataTransformer\n",
    "from data_visualizer import DataVisualizer\n",
    "from data_stats import DataStats\n"
   ]
  },
  {
   "cell_type": "code",
   "execution_count": null,
   "id": "77ec884d-cc60-4077-8db9-24ba6f136eba",
   "metadata": {},
   "outputs": [],
   "source": [
    "def load_class(module_name: str, class_name: str) -> Type[Any]:\n",
    "    module = importlib.import_module(module_name)\n",
    "    return getattr(module, class_name)"
   ]
  },
  {
   "cell_type": "code",
   "execution_count": null,
   "id": "d5704bf1-4f39-4e97-9e9d-73e2a815e13c",
   "metadata": {},
   "outputs": [],
   "source": [
    "DataProcessor = load_class('data_processor', 'DataProcessor')\n",
    "DataTransformer = load_class('data_transformer', 'DataTransformer')"
   ]
  },
  {
   "cell_type": "code",
   "execution_count": null,
   "id": "df832aa9-6ef4-4227-857c-7b4c6679b6bd",
   "metadata": {},
   "outputs": [
    {
     "name": "stdout",
     "output_type": "stream",
     "text": [
      "Error loading cache file: resetting cache\n",
      "Data loaded and stored in cahce\n",
      "Copy of dataset successfully created\n",
      "                 Title                                   Genre  \\\n",
      "0     Lets Fight Ghost  Crime, Drama, Fantasy, Horror, Romance   \n",
      "1  HOW TO BUILD A GIRL                                  Comedy   \n",
      "2     The Con-Heartist                         Comedy, Romance   \n",
      "3         Gleboka woda                                   Drama   \n",
      "4        Only a Mother                                   Drama   \n",
      "\n",
      "                                                Tags         Languages  \\\n",
      "0  Comedy Programmes,Romantic TV Comedies,Horror ...  Swedish, Spanish   \n",
      "1       Dramas,Comedies,Films Based on Books,British           English   \n",
      "2  Romantic Comedies,Comedies,Romantic Films,Thai...              Thai   \n",
      "3   TV Dramas,Polish TV Shows,Social Issue TV Dramas            Polish   \n",
      "4  Social Issue Dramas,Dramas,Movies Based on Boo...           Swedish   \n",
      "\n",
      "  Series or Movie  Hidden Gem Score  \\\n",
      "0          Series               4.3   \n",
      "1           Movie               7.0   \n",
      "2           Movie               8.6   \n",
      "3          Series               8.7   \n",
      "4           Movie               8.3   \n",
      "\n",
      "                                Country Availability       Runtime  \\\n",
      "0                                           Thailand  < 30 minutes   \n",
      "1                                             Canada      1-2 hour   \n",
      "2                                           Thailand       > 2 hrs   \n",
      "3                                             Poland  < 30 minutes   \n",
      "4  Lithuania,Poland,France,Italy,Spain,Greece,Bel...      1-2 hour   \n",
      "\n",
      "          Director                                             Writer  ...  \\\n",
      "0  Tomas Alfredson                              John Ajvide Lindqvist  ...   \n",
      "1    Coky Giedroyc                                      Caitlin Moran  ...   \n",
      "2    Mez Tharatorn  Pattaranad Bhiboonsawade, Mez Tharatorn, Thods...  ...   \n",
      "3              NaN                                                NaN  ...   \n",
      "4      Alf Sjöberg                                  Ivar Lo-Johansson  ...   \n",
      "\n",
      "  Netflix Release Date                        Production House  \\\n",
      "0           2021-03-04               Canal+, Sandrew Metronome   \n",
      "1           2021-03-04  Film 4, Monumental Pictures, Lionsgate   \n",
      "2           2021-03-03                                     NaN   \n",
      "3           2021-03-03                                     NaN   \n",
      "4           2021-03-03                                     NaN   \n",
      "\n",
      "                             Netflix Link  \\\n",
      "0  https://www.netflix.com/watch/81415947   \n",
      "1  https://www.netflix.com/watch/81041267   \n",
      "2  https://www.netflix.com/watch/81306155   \n",
      "3  https://www.netflix.com/watch/81307527   \n",
      "4  https://www.netflix.com/watch/81382068   \n",
      "\n",
      "                               IMDb Link  \\\n",
      "0   https://www.imdb.com/title/tt1139797   \n",
      "1   https://www.imdb.com/title/tt4193072   \n",
      "2  https://www.imdb.com/title/tt13393728   \n",
      "3   https://www.imdb.com/title/tt2300049   \n",
      "4   https://www.imdb.com/title/tt0041155   \n",
      "\n",
      "                                             Summary  IMDb Votes  \\\n",
      "0  A med student with a supernatural gift tries t...    205926.0   \n",
      "1  When nerdy Johanna moves to London, things get...      2838.0   \n",
      "2  After her ex-boyfriend cons her out of a large...       131.0   \n",
      "3  A group of social welfare workers led by their...        47.0   \n",
      "4  An unhappily married farm worker struggling to...        88.0   \n",
      "\n",
      "                                               Image  \\\n",
      "0  https://occ-0-4708-64.1.nflxso.net/dnm/api/v6/...   \n",
      "1  https://occ-0-1081-999.1.nflxso.net/dnm/api/v6...   \n",
      "2  https://occ-0-2188-64.1.nflxso.net/dnm/api/v6/...   \n",
      "3  https://occ-0-2508-2706.1.nflxso.net/dnm/api/v...   \n",
      "4  https://occ-0-2851-41.1.nflxso.net/dnm/api/v6/...   \n",
      "\n",
      "                                              Poster  \\\n",
      "0  https://m.media-amazon.com/images/M/MV5BOWM4NT...   \n",
      "1  https://m.media-amazon.com/images/M/MV5BZGUyN2...   \n",
      "2  https://m.media-amazon.com/images/M/MV5BODAzOG...   \n",
      "3  https://m.media-amazon.com/images/M/MV5BMTc0Nz...   \n",
      "4  https://m.media-amazon.com/images/M/MV5BMjVmMz...   \n",
      "\n",
      "                                  TMDb Trailer Trailer Site  \n",
      "0  https://www.youtube.com/watch?v=LqB6XJix-dM      YouTube  \n",
      "1  https://www.youtube.com/watch?v=eIbcxPy4okQ      YouTube  \n",
      "2  https://www.youtube.com/watch?v=md3CmFLGK6Y      YouTube  \n",
      "3  https://www.youtube.com/watch?v=5kyF2vy63r0      YouTube  \n",
      "4  https://www.youtube.com/watch?v=H0itWKFwMpQ      YouTube  \n",
      "\n",
      "[5 rows x 29 columns]\n"
     ]
    }
   ],
   "source": [
    "processor = DataProcessor('dataset_converted.csv')\n",
    "processor.load_data()\n",
    "\n",
    "transformer = DataTransformer(processor)\n",
    "\n",
    "df_copy = transformer.make_df_copy()\n",
    "print(df_copy.head())"
   ]
  },
  {
   "cell_type": "markdown",
   "id": "6adeca25-1217-4b86-b292-7cd9769c80d3",
   "metadata": {},
   "source": [
    "1. How many distinct genres are there in both movies and series?"
   ]
  },
  {
   "cell_type": "code",
   "execution_count": null,
   "id": "6b6db31d-ea0a-4bd5-b46e-9d7c2402eb3e",
   "metadata": {},
   "outputs": [
    {
     "name": "stdout",
     "output_type": "stream",
     "text": [
      "\n",
      "🔹 Before Splitting: 0    crime, drama, fantasy, horror, romance\n",
      "1                                    comedy\n",
      "2                           comedy, romance\n",
      "3                                     drama\n",
      "4                                     drama\n",
      "Name: Genre, dtype: object\n",
      "\n",
      "✅ After Splitting: 0    [Crime, Drama, Fantasy, Horror, Romance]\n",
      "1                                    [Comedy]\n",
      "2                           [Comedy, Romance]\n",
      "3                                     [Drama]\n",
      "4                                     [Drama]\n",
      "Name: Genre_list, dtype: object\n",
      "✅ Computed and cached grouped data for column 'Genre_list'\n",
      "Genre_list\n",
      "Drama          4803\n",
      "Comedy         3305\n",
      "Action         2149\n",
      "Thriller       2071\n",
      "Romance        1812\n",
      "Crime          1512\n",
      "Adventure      1355\n",
      "Fantasy        1228\n",
      "Animation      1173\n",
      "Scifi           955\n",
      "Mystery         936\n",
      "Family          881\n",
      "Documentary     804\n",
      "Horror          717\n",
      "Biography       572\n",
      "History         449\n",
      "Music           308\n",
      "Sport           289\n",
      "War             282\n",
      "Musical         165\n",
      "Short           161\n",
      "Realitytv       111\n",
      "Western          87\n",
      "Gameshow         32\n",
      "None Stated      25\n",
      "Talkshow         17\n",
      "News             14\n",
      "Adult             5\n",
      "Filmnoir          1\n",
      "dtype: int64\n"
     ]
    }
   ],
   "source": [
    "df_copy = transformer.standardize_text(df_copy, 'Genre')\n",
    "df_copy = transformer.fill_missing_values(df_copy, 'Genre', 'None Stated')\n",
    "df_copy = transformer.split_str(df_copy, 'Genre')\n",
    "genre_group = transformer.make_group(df_copy, 'Genre_list')\n",
    "\n",
    "DataVisualizer = load_class('data_visualizer', 'DataVisualizer')\n",
    "visualizer = DataVisualizer('./insurance')\n",
    "print(genre_group)"
   ]
  },
  {
   "cell_type": "code",
   "execution_count": null,
   "id": "24214bea-27a1-406e-ae91-2f30985c67ec",
   "metadata": {},
   "outputs": [
    {
     "name": "stdout",
     "output_type": "stream",
     "text": [
      "The columns list: ['Genre', 'Count']\n",
      "Data on convert after adding columns:           Genre  Count\n",
      "0         Drama   4803\n",
      "1        Comedy   3305\n",
      "2        Action   2149\n",
      "3      Thriller   2071\n",
      "4       Romance   1812\n",
      "5         Crime   1512\n",
      "6     Adventure   1355\n",
      "7       Fantasy   1228\n",
      "8     Animation   1173\n",
      "9         Scifi    955\n",
      "10      Mystery    936\n",
      "11       Family    881\n",
      "12  Documentary    804\n",
      "13       Horror    717\n",
      "14    Biography    572\n",
      "15      History    449\n",
      "16        Music    308\n",
      "17        Sport    289\n",
      "18          War    282\n",
      "19      Musical    165\n",
      "20        Short    161\n",
      "21    Realitytv    111\n",
      "22      Western     87\n",
      "23     Gameshow     32\n",
      "24  None Stated     25\n",
      "25     Talkshow     17\n",
      "26         News     14\n",
      "27        Adult      5\n",
      "28     Filmnoir      1\n",
      "✅ This is a Series\n"
     ]
    },
    {
     "name": "stderr",
     "output_type": "stream",
     "text": [
      "C:\\Users\\flash\\data_ai_foundations_final_project\\netflix_project\\data_visualizer.py:53: FutureWarning: \n",
      "\n",
      "Passing `palette` without assigning `hue` is deprecated and will be removed in v0.14.0. Assign the `y` variable to `hue` and set `legend=False` for the same effect.\n",
      "\n",
      "  plot_func(data=data, x=x, y=y,palette='Blues_r', **kwargs)\n"
     ]
    },
    {
     "data": {
      "image/png": "[encoded data removed]",
      "text/plain": [
       "<Figure size 1000x600 with 1 Axes>"
      ]
     },
     "metadata": {},
     "output_type": "display_data"
    }
   ],
   "source": [
    "visualizer.plot_any(\n",
    "    data=genre_group, \n",
    "    plot_func=sns.barplot,  \n",
    "    x='Count',  \n",
    "    y='Genre',  \n",
    "    x_label='Genre Distribution',  \n",
    "    y_label='No. Movies/Series',  \n",
    "    title='Genre',  \n",
    "    columns=['Genre', 'Count']\n",
    ")"
   ]
  },
  {
   "cell_type": "code",
   "execution_count": null,
   "id": "f58b85cf-3382-4e57-9fd5-37fd4efc22ff",
   "metadata": {},
   "outputs": [
    {
     "name": "stdout",
     "output_type": "stream",
     "text": [
      "There are 29 distinct genres in this dataset\n"
     ]
    }
   ],
   "source": [
    "print(f'There are {len(genre_group)} distinct genres in this dataset')"
   ]
  },
  {
   "cell_type": "markdown",
   "id": "c850984e-1342-4928-b2b0-30f1d732a0e4",
   "metadata": {},
   "source": [
    "2. Is there a statistical significance between genres and runtime?"
   ]
  },
  {
   "cell_type": "code",
   "execution_count": null,
   "id": "220ee5b5-04f2-4263-800c-f721fda2f2e9",
   "metadata": {},
   "outputs": [
    {
     "name": "stdout",
     "output_type": "stream",
     "text": [
      "✅ Returning cached grouped data for column 'Genre_list'\n",
      "Runtime      1-2 hour  30-60 mins  < 30 minutes  > 2 hrs\n",
      "Genre_list                                              \n",
      "Action           1179          26           471      473\n",
      "Adult               3           0             2        0\n",
      "Adventure         759          14           352      230\n",
      "Animation         446          33           666       28\n",
      "Biography         322           5            55      190\n",
      "Comedy           2046          59           897      302\n",
      "Crime             798           4           387      323\n",
      "Documentary       460          48           264       32\n",
      "Drama            2476          18          1182     1127\n",
      "Family            540          15           272       54\n",
      "Fantasy           642          15           442      129\n",
      "Filmnoir            1           0             0        0\n",
      "Gameshow            0           0            32        0\n",
      "History           188           2           114      145\n",
      "Horror            512           2           139       64\n",
      "Music             178           4            61       65\n",
      "Musical            82           6            33       44\n",
      "Mystery           486           4           294      152\n",
      "News               10           0             3        1\n",
      "None Stated         8           0            10        7\n",
      "Realitytv           4           2           105        0\n",
      "Romance           951           3           491      367\n",
      "Scifi             523          13           277      142\n",
      "Short              49          24            83        5\n",
      "Sport             161           5            65       58\n",
      "Talkshow            2           0            15        0\n",
      "Thriller         1287           3           354      427\n",
      "War               137           2            43      100\n",
      "Western            47           1            13       26\n"
     ]
    }
   ],
   "source": [
    "# df_copy = transformer.standardize_text(df_copy, 'Genre')\n",
    "# df_copy = transformer.fill_missing_values(df_copy, 'Genre', 'None Stated')\n",
    "# df_copy = transformer.split_str(df_copy, 'Genre')\n",
    "\n",
    "\n",
    "genre_runtime_group = transformer.make_group(df_copy, 'Genre_list', 'Runtime')\n",
    "print(genre_runtime_group)"
   ]
  },
  {
   "cell_type": "code",
   "execution_count": null,
   "id": "eae62c2d-cf1b-4d25-8b8f-bb25682c9b3e",
   "metadata": {},
   "outputs": [],
   "source": [
    "from data_stats import DataStats\n",
    "\n",
    "stats = DataStats(processor)"
   ]
  },
  {
   "cell_type": "code",
   "execution_count": null,
   "id": "2609169f-0732-479d-9c22-cacd4ec943bc",
   "metadata": {},
   "outputs": [],
   "source": [
    "genre_runtime_stats = stats.run_chi2_contingency(genre_runtime_group)\n",
    "\n"
   ]
  },
  {
   "cell_type": "code",
   "execution_count": null,
   "id": "bf1b0dcc-907a-430a-9e69-bbe8570794b9",
   "metadata": {},
   "outputs": [
    {
     "name": "stdout",
     "output_type": "stream",
     "text": [
      "Genre/Runtime Chi2: 2740.0105241383\n",
      "Genre/Runtime P_Value: 0.0\n"
     ]
    }
   ],
   "source": [
    "print(f'Genre/Runtime Chi2: {genre_runtime_stats['chi2_stat']}')\n",
    "print(f'Genre/Runtime P_Value: {genre_runtime_stats['p_value']}')\n"
   ]
  },
  {
   "cell_type": "markdown",
   "id": "b13ab253-0ac2-4be7-b47a-e6a272a4265d",
   "metadata": {},
   "source": [
    "With the Chi2 value of 2740.01 (2dp) and p_value of 0.0, we can see that there is a statistical significance between genre and runtime. "
   ]
  },
  {
   "cell_type": "markdown",
   "id": "f745525e-36c5-475c-9697-ac5f26a88a0b",
   "metadata": {},
   "source": [
    "3.) The relationship between genre and IMDb Votes, analyzing statistical significance"
   ]
  },
  {
   "cell_type": "code",
   "execution_count": null,
   "id": "bef9a5d0-efe3-4d39-bc6b-30cd16c3eb23",
   "metadata": {
    "scrolled": true
   },
   "outputs": [
    {
     "name": "stdout",
     "output_type": "stream",
     "text": [
      "✅ Returning cached grouped data for column 'Genre_list'\n",
      "IMDb Votes  5.0        6.0        7.0        8.0        9.0        10.0       \\\n",
      "Genre_list                                                                     \n",
      "Action              0          0          2          3          3          1   \n",
      "Adult               0          0          1          0          0          0   \n",
      "Adventure           0          0          1          1          2          3   \n",
      "Animation           2          4          6          3          1          7   \n",
      "Biography           0          0          0          0          0          0   \n",
      "\n",
      "IMDb Votes  11.0       12.0       13.0       14.0       ...  1522306.0  \\\n",
      "Genre_list                                              ...              \n",
      "Action              1          0          2          2  ...          1   \n",
      "Adult               0          0          0          1  ...          0   \n",
      "Adventure           0          0          0          1  ...          1   \n",
      "Animation           3          0          0          1  ...          0   \n",
      "Biography           0          0          0          0  ...          0   \n",
      "\n",
      "IMDb Votes  1625286.0  1645871.0  1664865.0  1684368.0  1814709.0  1831004.0  \\\n",
      "Genre_list                                                                     \n",
      "Action              0          1          1          1          0          0   \n",
      "Adult               0          0          0          0          0          0   \n",
      "Adventure           0          1          1          0          0          0   \n",
      "Animation           0          0          0          0          0          0   \n",
      "Biography           0          0          0          0          0          0   \n",
      "\n",
      "IMDb Votes  2072912.0  2308981.0  2354197.0  \n",
      "Genre_list                                   \n",
      "Action              1          1          0  \n",
      "Adult               0          0          0  \n",
      "Adventure           1          0          0  \n",
      "Animation           0          0          0  \n",
      "Biography           0          0          0  \n",
      "\n",
      "[5 rows x 6991 columns]\n"
     ]
    }
   ],
   "source": [
    "genre_IMDb_group = transformer.make_group(df_copy, 'Genre_list', 'IMDb Votes')\n",
    "\n",
    "print(genre_IMDb_group.head())"
   ]
  },
  {
   "cell_type": "code",
   "execution_count": null,
   "id": "54c4f487-e25e-499d-a077-79c996d3bf1f",
   "metadata": {},
   "outputs": [
    {
     "name": "stdout",
     "output_type": "stream",
     "text": [
      "Genre/IMDb Votes Chi2: 167354.4619265219\n",
      "Genre/IMDb Votes P_Value: 1.0\n"
     ]
    }
   ],
   "source": [
    "genre_IMDb_stats = stats.run_chi2_contingency(genre_IMDb_group)\n",
    "\n",
    "print(f'Genre/IMDb Votes Chi2: {genre_IMDb_stats['chi2_stat']}')\n",
    "print(f'Genre/IMDb Votes P_Value: {genre_IMDb_stats['p_value']}')"
   ]
  },
  {
   "cell_type": "markdown",
   "id": "8d101bca-83f1-49d1-91d5-5285329dc4aa",
   "metadata": {},
   "source": [
    "With the Chi2 value of 167354.46 (2dp) and p_value of 1.0, we can see that there is no statistical significance between genre and IMDb Votes.\n"
   ]
  },
  {
   "cell_type": "code",
   "execution_count": null,
   "id": "8e7295b1-ec1e-4da2-b093-c241014e26ea",
   "metadata": {},
   "outputs": [],
   "source": []
  }
 ],
 "metadata": {
  "kernelspec": {
   "display_name": "Python [conda env:base] *",
   "language": "python",
   "name": "conda-base-py"
  },
  "language_info": {
   "codemirror_mode": {
    "name": "ipython",
    "version": 3
   },
   "file_extension": ".py",
   "mimetype": "text/x-python",
   "name": "python",
   "nbconvert_exporter": "python",
   "pygments_lexer": "ipython3",
   "version": "3.12.7"
  }
 },
 "nbformat": 4,
 "nbformat_minor": 5
}
